{
 "cells": [
  {
   "cell_type": "markdown",
   "id": "008a6fee-8281-4b6d-a6cc-c3ede7d742ee",
   "metadata": {},
   "source": [
    "# **Packing Spot Tracking**"
   ]
  },
  {
   "cell_type": "code",
   "execution_count": null,
   "id": "4ddc4cab-17d2-41e6-bf99-e13c8a4674d2",
   "metadata": {},
   "outputs": [],
   "source": [
    "import os\n",
    "os.environ['TF_CPP_MIN_LOG_LEVEL'] = '3' \n",
    "import cv2\n",
    "import pandas as pd\n",
    "import numpy as np\n",
    "import tensorflow as tf\n",
    "import matplotlib.pyplot as plt\n",
    "\n",
    "from tensorflow.keras import Model\n",
    "from tensorflow.keras.models import Sequential\n",
    "from tensorflow.keras.utils import to_categorical\n",
    "from tensorflow.keras.losses import categorical_crossentropy\n",
    "from tensorflow.keras.preprocessing.image import ImageDataGenerator\n",
    "from tensorflow.keras.layers import Dense, Flatten, Conv2D, MaxPooling2D, Dropout, Activation"
   ]
  },
  {
   "cell_type": "markdown",
   "id": "04383677-ce62-44b2-9fcb-4bb9aaea324f",
   "metadata": {},
   "source": [
    "# *Dataset*"
   ]
  },
  {
   "cell_type": "code",
   "execution_count": null,
   "id": "95c8e4ed-b6f3-4d1a-94a7-1fefc2b90120",
   "metadata": {},
   "outputs": [],
   "source": [
    "data_folder_A = './data/data2/A/'\n",
    "data_folder_B = 'data/data2/B/'"
   ]
  },
  {
   "cell_type": "code",
   "execution_count": null,
   "id": "5bffe5d8-2edd-420d-a7c2-8dcf925ccd1d",
   "metadata": {},
   "outputs": [],
   "source": [
    "os.listdir(data_folder_B)"
   ]
  },
  {
   "cell_type": "code",
   "execution_count": null,
   "id": "ad391de5-b953-41f2-84b3-081226b5ca78",
   "metadata": {},
   "outputs": [],
   "source": [
    "h, w = 150, 150\n",
    "batch_size = 100\n",
    "lr = 0.0001\n",
    "epoches = 20"
   ]
  },
  {
   "cell_type": "code",
   "execution_count": null,
   "id": "0b7ba2d6-af9f-4b6c-84b3-ced96bf095ee",
   "metadata": {},
   "outputs": [],
   "source": [
    "train_dataset = tf.keras.utils.image_dataset_from_directory(data_folder_A,\n",
    "                                                            validation_split=0.2,\n",
    "                                                            seed=123,\n",
    "                                                            subset='training',\n",
    "                                                            image_size=(h, w),\n",
    "                                                            batch_size=batch_size\n",
    "                                                           )"
   ]
  },
  {
   "cell_type": "code",
   "execution_count": null,
   "id": "c48da4f8-3e56-4e07-9337-7834314e6a4f",
   "metadata": {},
   "outputs": [],
   "source": [
    "val_dataset = tf.keras.utils.image_dataset_from_directory(data_folder_B,\n",
    "                                                            validation_split=0.2,\n",
    "                                                            seed=123,\n",
    "                                                            subset='validation',\n",
    "                                                            image_size=(h, w),\n",
    "                                                            batch_size=batch_size\n",
    "                                                           )"
   ]
  },
  {
   "cell_type": "code",
   "execution_count": null,
   "id": "dd751524-bb56-4244-bf4e-4b47b0162d68",
   "metadata": {},
   "outputs": [],
   "source": [
    "plt.figure(figsize=(100, 100))\n",
    "for images, labels in train_dataset.take(1):\n",
    "    for i in range(9):\n",
    "        ax = plt.subplot(3, 3, i+1)\n",
    "        plt.imshow(images[i].numpy().astype('uint8'))\n",
    "        plt.axis('off')"
   ]
  },
  {
   "cell_type": "code",
   "execution_count": null,
   "id": "ce156d1a-424e-4e7e-8310-c05483b93228",
   "metadata": {
    "scrolled": true,
    "tags": []
   },
   "outputs": [],
   "source": [
    "for images, labels in train_dataset:\n",
    "    print(images.shape)\n",
    "    print(labels.shape)"
   ]
  },
  {
   "cell_type": "markdown",
   "id": "88bca0a9-ce0c-40d9-a636-ec72b314cb38",
   "metadata": {},
   "source": [
    "# *Preprocessing*"
   ]
  },
  {
   "cell_type": "code",
   "execution_count": null,
   "id": "082f67e3-a1e6-47fb-a37d-7f10e3a172d6",
   "metadata": {},
   "outputs": [],
   "source": [
    "normalized_layer = tf.keras.layers.Rescaling(1./255)"
   ]
  },
  {
   "cell_type": "code",
   "execution_count": 8,
   "id": "2a10876e-4e4a-4278-b716-056775075166",
   "metadata": {},
   "outputs": [
    {
     "name": "stdout",
     "output_type": "stream",
     "text": [
      "0.121568635 1.0\n"
     ]
    }
   ],
   "source": [
    "normalized_dataset = train_dataset.map(lambda x, y: (normalized_layer(x), y))\n",
    "\n",
    "image_batch, labels_batch = next(iter(normalized_dataset))\n",
    "first_image = image_batch[0]\n",
    "# Notice the pixel values are now in `[0,1]`.\n",
    "print(np.min(first_image), np.max(first_image))"
   ]
  },
  {
   "cell_type": "markdown",
   "id": "fca22f60-2f39-4a77-b3ff-b9985eac6d42",
   "metadata": {},
   "source": [
    "# *Config Model*"
   ]
  },
  {
   "cell_type": "code",
   "execution_count": 9,
   "id": "674d1e71-db6b-46b7-a6b7-a2a9e9f96476",
   "metadata": {},
   "outputs": [],
   "source": [
    "model = tf.keras.Sequential()"
   ]
  },
  {
   "cell_type": "code",
   "execution_count": null,
   "id": "91dbdc7b-06e3-4430-be08-61664429b411",
   "metadata": {},
   "outputs": [],
   "source": [
    "model.add(Conv2D((11,11),4))"
   ]
  },
  {
   "cell_type": "code",
   "execution_count": null,
   "id": "f7a15bb3-dcc4-452a-8793-509e13d4061c",
   "metadata": {},
   "outputs": [],
   "source": []
  },
  {
   "cell_type": "code",
   "execution_count": null,
   "id": "4ebd455b-b7e1-4304-8cec-8d3be5fc985c",
   "metadata": {},
   "outputs": [],
   "source": []
  },
  {
   "cell_type": "code",
   "execution_count": null,
   "id": "cb337754-1c65-404c-8aa9-b25980e5bea8",
   "metadata": {},
   "outputs": [],
   "source": []
  },
  {
   "cell_type": "code",
   "execution_count": null,
   "id": "de425fdf-69f2-42c5-b8dd-e2de920993ff",
   "metadata": {},
   "outputs": [],
   "source": []
  },
  {
   "cell_type": "code",
   "execution_count": null,
   "id": "3fb03d92-a628-4ffe-a6a6-ab2421875bf0",
   "metadata": {},
   "outputs": [],
   "source": [
    "model.summary()"
   ]
  },
  {
   "cell_type": "markdown",
   "id": "916f69d3-d1f0-4093-bc48-7e2ca9fcef38",
   "metadata": {},
   "source": [
    "---"
   ]
  },
  {
   "cell_type": "code",
   "execution_count": null,
   "id": "7ca5bcb6-5811-4041-8703-3a3ef188bc11",
   "metadata": {},
   "outputs": [],
   "source": [
    "model = Sequential()\n",
    "model.add(Conv2D(32, (3, 3), activation='relu', input_shape=(150, 150, 3)))\n",
    "model.add(MaxPooling2D((2, 2)))\n",
    "model.add(Conv2D(64, (3, 3), activation='relu'))\n",
    "model.add(MaxPooling2D((2, 2)))\n",
    "model.add(Conv2D(64, (3, 3), activation='relu'))\n",
    "model.add(Flatten())\n",
    "model.add(Dense(64, activation='relu'))\n",
    "model.add(Dense(2))"
   ]
  },
  {
   "cell_type": "code",
   "execution_count": null,
   "id": "d2992c81-1ff6-4507-824c-e33da86fd2da",
   "metadata": {},
   "outputs": [],
   "source": [
    "model.summary()"
   ]
  },
  {
   "cell_type": "code",
   "execution_count": null,
   "id": "f6a8906c-e6ba-439e-82e1-da2585cd9d0f",
   "metadata": {},
   "outputs": [],
   "source": [
    "model.compile(loss='binary_crossentropy', optimizer='adam', metrics=['accuracy'])"
   ]
  },
  {
   "cell_type": "code",
   "execution_count": null,
   "id": "9c8172d6-2ed5-4dd2-960a-c3ec057e364b",
   "metadata": {},
   "outputs": [],
   "source": [
    "history = model.fit(train_dataset, epochs=20, \n",
    "                    validation_data=val_dataset)"
   ]
  },
  {
   "cell_type": "markdown",
   "id": "e8277272-2f68-4a99-ad84-5cccd22981bd",
   "metadata": {},
   "source": [
    "---"
   ]
  },
  {
   "cell_type": "code",
   "execution_count": null,
   "id": "5bf9f1ff-d8fe-4808-bb3f-6f5da856b123",
   "metadata": {},
   "outputs": [],
   "source": [
    "model.compile(\n",
    "  optimizer='adam',\n",
    "  loss=\"sparse_categorical_crossentropy\",\n",
    "  metrics=['accuracy'])"
   ]
  },
  {
   "cell_type": "markdown",
   "id": "01e7b62a-7bda-4086-aace-ce0ec8ba5c4e",
   "metadata": {},
   "source": [
    "# *Training model*"
   ]
  },
  {
   "cell_type": "code",
   "execution_count": null,
   "id": "0d2bdacc-9b32-4559-adcd-1d442406cbe0",
   "metadata": {
    "scrolled": true,
    "tags": []
   },
   "outputs": [],
   "source": [
    "history = model.fit(train_dataset, validation_data=val_dataset, epochs=50)"
   ]
  },
  {
   "cell_type": "code",
   "execution_count": null,
   "id": "60d2cae6-f293-45ff-8098-d90972471563",
   "metadata": {},
   "outputs": [],
   "source": [
    "# list all data in history\n",
    "print(history.history.keys())\n",
    "# summarize history for accuracy\n",
    "plt.plot(history.history['accuracy'])\n",
    "plt.plot(history.history['val_accuracy'])\n",
    "plt.title('model accuracy')\n",
    "plt.ylabel('accuracy')\n",
    "plt.xlabel('epoch')\n",
    "plt.legend(['train', 'test'], loc='upper left')\n",
    "plt.show()\n",
    "# summarize history for loss\n",
    "plt.plot(history.history['loss'])\n",
    "plt.plot(history.history['val_loss'])\n",
    "plt.title('model loss')\n",
    "plt.ylabel('loss')\n",
    "plt.xlabel('epoch')\n",
    "plt.legend(['train', 'test'], loc='upper left')\n",
    "plt.show()"
   ]
  },
  {
   "cell_type": "markdown",
   "id": "5a253278-b390-41ae-8071-f9c44ea2b64b",
   "metadata": {},
   "source": [
    "# *Evaluate*"
   ]
  },
  {
   "cell_type": "code",
   "execution_count": null,
   "id": "7313594a-8934-4124-ba7c-57b7de0b63de",
   "metadata": {},
   "outputs": [],
   "source": []
  }
 ],
 "metadata": {
  "kernelspec": {
   "display_name": "Python 3 (ipykernel)",
   "language": "python",
   "name": "python3"
  },
  "language_info": {
   "codemirror_mode": {
    "name": "ipython",
    "version": 3
   },
   "file_extension": ".py",
   "mimetype": "text/x-python",
   "name": "python",
   "nbconvert_exporter": "python",
   "pygments_lexer": "ipython3",
   "version": "3.8.10"
  }
 },
 "nbformat": 4,
 "nbformat_minor": 5
}
